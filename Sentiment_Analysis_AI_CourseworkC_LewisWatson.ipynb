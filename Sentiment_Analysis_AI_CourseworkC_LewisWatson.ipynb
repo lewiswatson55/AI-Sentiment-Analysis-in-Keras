{
 "cells": [
  {
   "cell_type": "markdown",
   "metadata": {},
   "source": [
    "# Sentiment Analysis Coursework - Lewis N Watson - 40432878"
   ]
  },
  {
   "cell_type": "code",
   "execution_count": 1,
   "metadata": {},
   "outputs": [],
   "source": [
    "# Imports\n",
    "import numpy as np\n",
    "import pandas as pd\n",
    "import matplotlib.pylab as plt\n",
    "from keras.preprocessing.text import Tokenizer\n",
    "from keras.models import Sequential\n",
    "from keras.layers import Dense, Dropout, Activation, LSTM\n",
    "from keras.layers.embeddings import Embedding\n",
    "from keras.utils import np_utils\n",
    "from keras.preprocessing import sequence\n",
    "import gensim.downloader as api\n",
    "np.random.seed(7)"
   ]
  },
  {
   "cell_type": "code",
   "execution_count": 2,
   "metadata": {},
   "outputs": [],
   "source": [
    "def filter_stopwords(arr):\n",
    "    print(\"Filtering stopwords...\")\n",
    "    stopwords = ['stop', 'the', 'to', 'and', 'a', 'in', 'it', 'is', 'i', 'so', 'that', 'had', 'on', 'for', 'were',\n",
    "                 'was', 'of', 'as', 'an']\n",
    "    newArr = np.array([])\n",
    "\n",
    "    for sentences in arr:\n",
    "        new_sentence = \"\"\n",
    "        word_count = 0\n",
    "        for word in sentences.split():\n",
    "            if word not in stopwords:\n",
    "                if word_count == 0:\n",
    "                    new_sentence += word\n",
    "                    word_count += 1\n",
    "                else:\n",
    "                    new_sentence += \" \" + word\n",
    "                    word_count += 1\n",
    "\n",
    "        if new_sentence != \"\":\n",
    "            newArr = np.append(newArr, new_sentence)\n",
    "\n",
    "    return newArr"
   ]
  },
  {
   "cell_type": "code",
   "execution_count": 3,
   "metadata": {},
   "outputs": [],
   "source": [
    "def load_data(filename):\n",
    "    print(\"Loading data...\")\n",
    "    df = pd.read_csv(filename, names=['sentence', 'label'], sep=',')\n",
    "\n",
    "    X_raw = df['sentence'].values\n",
    "    y_raw = df['label'].values\n",
    "\n",
    "    X_raw = filter_stopwords(X_raw)\n",
    "\n",
    "    return X_raw, y_raw"
   ]
  },
  {
   "cell_type": "code",
   "execution_count": 5,
   "metadata": {},
   "outputs": [
    {
     "name": "stdout",
     "output_type": "stream",
     "text": [
      "Loading data...\n",
      "Filtering stopwords...\n",
      "Loading data...\n",
      "Filtering stopwords...\n",
      "Loading data...\n",
      "Filtering stopwords...\n"
     ]
    }
   ],
   "source": [
    "# Load data\n",
    "X_train, y_train = load_data('train.csv')\n",
    "X_test, y_test = load_data('test.csv')\n",
    "X_val, y_val = load_data('val.csv')"
   ]
  },
  {
   "cell_type": "code",
   "execution_count": 7,
   "metadata": {},
   "outputs": [],
   "source": [
    "# Load word2vec model\n",
    "word2vec_model = api.load(\"glove-wiki-gigaword-300\")"
   ]
  },
  {
   "cell_type": "code",
   "execution_count": 8,
   "metadata": {},
   "outputs": [
    {
     "name": "stdout",
     "output_type": "stream",
     "text": [
      "Embedding matrix shape:  (400000, 300)\n"
     ]
    }
   ],
   "source": [
    "embedding_matrix = word2vec_model.vectors\n",
    "print('Embedding matrix shape: ', embedding_matrix.shape)\n",
    "top_words = embedding_matrix.shape[0]\n",
    "mxlen = 50"
   ]
  },
  {
   "cell_type": "code",
   "execution_count": 9,
   "metadata": {},
   "outputs": [],
   "source": [
    "# Tokenize and to sequences\n",
    "tokenizer = Tokenizer(num_words=top_words,filters='!\"#$%&()*+,-./:;<=>?@[\\]^_`{|}~', lower=True)\n",
    "tokenizer.fit_on_texts(X_train)\n",
    "sequences_train = tokenizer.texts_to_sequences(X_train)\n",
    "sequences_test = tokenizer.texts_to_sequences(X_test)\n",
    "sequences_val = tokenizer.texts_to_sequences(X_val)\n",
    "\n",
    "word_index = tokenizer.word_index"
   ]
  },
  {
   "cell_type": "code",
   "execution_count": 10,
   "metadata": {},
   "outputs": [],
   "source": [
    "# Pad sequences\n",
    "X_train = sequence.pad_sequences(sequences_train, maxlen=mxlen)\n",
    "X_test = sequence.pad_sequences(sequences_test, maxlen=mxlen)\n",
    "X_val = sequence.pad_sequences(sequences_val, maxlen=mxlen)"
   ]
  },
  {
   "cell_type": "code",
   "execution_count": 11,
   "metadata": {},
   "outputs": [],
   "source": [
    "# Hyperparameters to fiddle with\n",
    "batch_size = 8\n",
    "nb_epoch = 12"
   ]
  },
  {
   "cell_type": "code",
   "execution_count": 12,
   "metadata": {},
   "outputs": [],
   "source": [
    "embedding_layer = Embedding(embedding_matrix.shape[0],\n",
    "                                embedding_matrix.shape[1],\n",
    "                                weights=[embedding_matrix],\n",
    "                                trainable=False)"
   ]
  },
  {
   "cell_type": "code",
   "execution_count": 13,
   "metadata": {},
   "outputs": [
    {
     "name": "stdout",
     "output_type": "stream",
     "text": [
      "WARNING:tensorflow:Layer lstm will not use cuDNN kernels since it doesn't meet the criteria. It will use a generic GPU kernel as fallback when running on GPU.\n",
      "Model: \"sequential\"\n",
      "_________________________________________________________________\n",
      " Layer (type)                Output Shape              Param #   \n",
      "=================================================================\n",
      " embedding (Embedding)       (None, None, 300)         120000000 \n",
      "                                                                 \n",
      " lstm (LSTM)                 (None, 100)               160400    \n",
      "                                                                 \n",
      " dense (Dense)               (None, 1)                 101       \n",
      "                                                                 \n",
      " activation (Activation)     (None, 1)                 0         \n",
      "                                                                 \n",
      "=================================================================\n",
      "Total params: 120,160,501\n",
      "Trainable params: 160,501\n",
      "Non-trainable params: 120,000,000\n",
      "_________________________________________________________________\n"
     ]
    }
   ],
   "source": [
    "# Build model\n",
    "model = Sequential()\n",
    "model.add(embedding_layer)\n",
    "model.add(LSTM(100, recurrent_dropout=0.1, dropout=0.3))\n",
    "model.add(Dense(1))\n",
    "model.add(Activation('sigmoid'))  # try softmax for categorical_crossentropy\n",
    "model.summary()"
   ]
  },
  {
   "cell_type": "code",
   "execution_count": 14,
   "metadata": {},
   "outputs": [
    {
     "name": "stdout",
     "output_type": "stream",
     "text": [
      "Epoch 1/12\n",
      "175/175 [==============================] - 31s 158ms/step - loss: 0.7095 - accuracy: 0.5043 - val_loss: 0.6834 - val_accuracy: 0.5700\n",
      "Epoch 2/12\n",
      "175/175 [==============================] - 27s 155ms/step - loss: 0.6556 - accuracy: 0.6157 - val_loss: 0.6802 - val_accuracy: 0.5700\n",
      "Epoch 3/12\n",
      "175/175 [==============================] - 27s 156ms/step - loss: 0.6094 - accuracy: 0.6771 - val_loss: 0.7255 - val_accuracy: 0.5200\n",
      "Epoch 4/12\n",
      "175/175 [==============================] - 31s 177ms/step - loss: 0.5535 - accuracy: 0.7321 - val_loss: 0.7260 - val_accuracy: 0.5600\n",
      "Epoch 5/12\n",
      "175/175 [==============================] - 32s 181ms/step - loss: 0.4739 - accuracy: 0.7764 - val_loss: 0.7470 - val_accuracy: 0.5800\n",
      "Epoch 6/12\n",
      "175/175 [==============================] - 35s 199ms/step - loss: 0.3991 - accuracy: 0.8193 - val_loss: 0.8494 - val_accuracy: 0.5750\n",
      "Epoch 7/12\n",
      "175/175 [==============================] - 30s 174ms/step - loss: 0.3033 - accuracy: 0.8793 - val_loss: 0.9176 - val_accuracy: 0.5450\n",
      "Epoch 8/12\n",
      "175/175 [==============================] - 33s 190ms/step - loss: 0.2241 - accuracy: 0.9186 - val_loss: 1.1609 - val_accuracy: 0.5300\n",
      "Epoch 9/12\n",
      "175/175 [==============================] - 49s 281ms/step - loss: 0.1853 - accuracy: 0.9293 - val_loss: 1.0600 - val_accuracy: 0.5550\n",
      "Epoch 10/12\n",
      "175/175 [==============================] - 31s 178ms/step - loss: 0.1409 - accuracy: 0.9514 - val_loss: 1.1101 - val_accuracy: 0.5500\n",
      "Epoch 11/12\n",
      "175/175 [==============================] - 30s 172ms/step - loss: 0.0955 - accuracy: 0.9686 - val_loss: 1.5027 - val_accuracy: 0.5450\n",
      "Epoch 12/12\n",
      "175/175 [==============================] - 31s 176ms/step - loss: 0.0841 - accuracy: 0.9729 - val_loss: 1.3030 - val_accuracy: 0.5800\n"
     ]
    }
   ],
   "source": [
    "# Compile and train model\n",
    "model.compile(optimizer='adam', loss='binary_crossentropy', metrics=['accuracy'])\n",
    "rnn = model.fit(X_train, y_train, epochs=nb_epoch, batch_size=batch_size, shuffle=True,validation_data=(X_val, y_val))"
   ]
  },
  {
   "cell_type": "code",
   "execution_count": 15,
   "metadata": {},
   "outputs": [
    {
     "name": "stdout",
     "output_type": "stream",
     "text": [
      "Evaluating model...\n",
      "\n",
      "Training Accuracy: 99.7143\n",
      "Training Loss:  2.2998\n",
      "\n",
      "Testing Accuracy:  56.0000\n",
      "Testing Loss:  130.0217\n"
     ]
    }
   ],
   "source": [
    "# Evaluate model\n",
    "print(\"Evaluating model...\\n\")\n",
    "loss, accuracy = model.evaluate(X_train, y_train, verbose=False)\n",
    "print(\"Training Accuracy: {:.4f}\".format(accuracy * 100))\n",
    "print(\"Training Loss:  {:.4f}\".format(loss * 100))\n",
    "\n",
    "print(\"\") # New Line...\n",
    "\n",
    "loss, accuracy = model.evaluate(X_test, y_test, verbose=False)\n",
    "print(\"Testing Accuracy:  {:.4f}\".format(accuracy*100))\n",
    "print(\"Testing Loss:  {:.4f}\".format(loss * 100))"
   ]
  },
  {
   "cell_type": "code",
   "execution_count": 16,
   "metadata": {},
   "outputs": [],
   "source": [
    "def plot_valloss_vs_train_accuracy(training):\n",
    "    plt.plot(training.history['val_loss'], label='Validation Loss')\n",
    "    plt.plot(training.history['accuracy'], label='Training Accuracy')\n",
    "    plt.title('Sentiment Analysis - Validation loss vs Training Accuracy')\n",
    "    plt.ylabel('Value')\n",
    "    plt.xlabel('Epoch')\n",
    "    plt.legend(loc=\"lower right\")\n",
    "    plt.show()\n",
    "\n",
    "def plot_accuracy(training):\n",
    "    plt.plot(training.history['val_accuracy'], label='Validation Accuracy')\n",
    "    plt.plot(training.history['accuracy'], label='Training Accuracy')\n",
    "    plt.title('Sentiment Analysis - Training vs Validation Accuracy')\n",
    "    plt.ylabel('Value')\n",
    "    plt.xlabel('Epoch')\n",
    "    plt.legend(loc=\"lower right\")\n",
    "    plt.show()"
   ]
  },
  {
   "cell_type": "code",
   "execution_count": 17,
   "metadata": {},
   "outputs": [
    {
     "data": {
      "image/png": "[encoded data removed]",
      "text/plain": [
       "<Figure size 432x288 with 1 Axes>"
      ]
     },
     "metadata": {
      "needs_background": "light"
     },
     "output_type": "display_data"
    },
    {
     "data": {
      "image/png": "[encoded data removed]",
      "text/plain": [
       "<Figure size 432x288 with 1 Axes>"
      ]
     },
     "metadata": {
      "needs_background": "light"
     },
     "output_type": "display_data"
    }
   ],
   "source": [
    "# Plot Charts\n",
    "plot_valloss_vs_train_accuracy(rnn)\n",
    "plot_accuracy(rnn)"
   ]
  }
 ],
 "metadata": {
  "kernelspec": {
   "display_name": "Python 3",
   "language": "python",
   "name": "python3"
  },
  "language_info": {
   "codemirror_mode": {
    "name": "ipython",
    "version": 3
   },
   "file_extension": ".py",
   "mimetype": "text/x-python",
   "name": "python",
   "nbconvert_exporter": "python",
   "pygments_lexer": "ipython3",
   "version": "3.9.2"
  }
 },
 "nbformat": 4,
 "nbformat_minor": 0
}
